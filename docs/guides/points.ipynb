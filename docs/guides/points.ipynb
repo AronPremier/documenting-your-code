{
 "cells": [
  {
   "cell_type": "markdown",
   "metadata": {},
   "source": [
    "# The `points` module"
   ]
  },
  {
   "cell_type": "markdown",
   "metadata": {},
   "source": [
    "This notebook demonstrates how to use the `randomly.points` module."
   ]
  },
  {
   "cell_type": "markdown",
   "metadata": {},
   "source": [
    "```{note}\n",
    "This assumes you have already [installed the `randomly` package](./install.md).\n",
    "```"
   ]
  },
  {
   "cell_type": "markdown",
   "metadata": {},
   "source": [
    "## Poisson points\n",
    "\n",
    "Currently, the module only contains a single function, `generate_poisson_points()`. This function will generate random points in a defined rectangular space.\n",
    "\n",
    "The function accepts two parameters:\n",
    "- `bounds`: a tuple `(minx, miny, maxx, maxy)` of the bounding box.\n",
    "- `rate`: theoretical events per unit area\n"
   ]
  },
  {
   "cell_type": "code",
   "execution_count": 1,
   "metadata": {},
   "outputs": [],
   "source": [
    "from randomly.points import generate_poisson_points"
   ]
  },
  {
   "cell_type": "code",
   "execution_count": null,
   "metadata": {},
   "outputs": [],
   "source": [
    "generate_poisson_points()"
   ]
  }
 ],
 "metadata": {
  "interpreter": {
   "hash": "aedbff82390d08e5d7207e67ba6325085fa5cd1b05329ca4a7b5d5ad7efe5a43"
  },
  "kernelspec": {
   "display_name": "Python 3.9.7 ('docs-tutorial')",
   "language": "python",
   "name": "python3"
  },
  "language_info": {
   "codemirror_mode": {
    "name": "ipython",
    "version": 3
   },
   "file_extension": ".py",
   "mimetype": "text/x-python",
   "name": "python",
   "nbconvert_exporter": "python",
   "pygments_lexer": "ipython3",
   "version": "3.9.7"
  },
  "orig_nbformat": 4
 },
 "nbformat": 4,
 "nbformat_minor": 2
}
